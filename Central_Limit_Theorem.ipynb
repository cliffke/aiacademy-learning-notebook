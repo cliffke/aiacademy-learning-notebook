{
 "cells": [
  {
   "cell_type": "markdown",
   "metadata": {},
   "source": [
    "# 中央極限定理的說明\n",
    "* https://molecular-service-science.com/2013/07/27/central-limit-theorem-and-rule-of-thumb/\n",
    "\n",
    "為了驗證中央極限定理是否有其特性，以下 mock 兩種分佈的 data 來作實驗"
   ]
  },
  {
   "cell_type": "code",
   "execution_count": 48,
   "metadata": {},
   "outputs": [
    {
     "name": "stderr",
     "output_type": "stream",
     "text": [
      "/usr/local/lib/python3.6/site-packages/ipykernel_launcher.py:3: DeprecationWarning: This function is deprecated. Please call randint(1, 10 + 1) instead\n",
      "  This is separate from the ipykernel package so we can avoid doing imports until\n"
     ]
    }
   ],
   "source": [
    "from numpy import random as npr\n",
    "\n",
    "x = npr.random_integers(10,size=1000)\n",
    "x = np.array(range(1000))"
   ]
  },
  {
   "cell_type": "code",
   "execution_count": 49,
   "metadata": {},
   "outputs": [],
   "source": [
    "%matplotlib inline\n",
    "from matplotlib import pyplot as plt"
   ]
  },
  {
   "cell_type": "markdown",
   "metadata": {},
   "source": [
    "# 這是一個 uniform distribution"
   ]
  },
  {
   "cell_type": "code",
   "execution_count": 51,
   "metadata": {},
   "outputs": [
    {
     "data": {
      "text/plain": [
       "Text(0.5,0,'Value')"
      ]
     },
     "execution_count": 51,
     "metadata": {},
     "output_type": "execute_result"
    },
    {
     "data": {
      "image/png": "[encoded data removed]",
      "text/plain": [
       "<matplotlib.figure.Figure at 0x10a60a198>"
      ]
     },
     "metadata": {},
     "output_type": "display_data"
    }
   ],
   "source": [
    "plt.hist(x)\n",
    "plt.title(\"Freq Dist\")\n",
    "plt.ylabel(\"Freq\")\n",
    "plt.xlabel(\"Value\")"
   ]
  },
  {
   "cell_type": "code",
   "execution_count": 37,
   "metadata": {},
   "outputs": [
    {
     "data": {
      "text/plain": [
       "array([  3.22473418e-01,  -3.71240801e-01,   9.03423004e-01,\n",
       "        -1.13415486e+00,  -1.03008453e+00,   3.03492630e-01,\n",
       "        -2.67290981e-01,  -6.53639917e-01,   1.76788141e-01,\n",
       "         1.07037145e+00,   7.38455733e-01,  -1.55088222e+00,\n",
       "        -2.18304722e+00,   6.53167609e-01,   7.28682356e-01,\n",
       "        -9.64148413e-01,  -1.04016826e-01,  -1.74589138e+00,\n",
       "        -4.51451503e-01,   1.25165304e+00,  -3.90310698e-01,\n",
       "        -1.50585008e+00,   1.58993919e-01,   9.05294689e-02,\n",
       "         1.16133762e-01,  -4.34452892e-01,  -1.16156242e-01,\n",
       "         2.10026167e-01,  -1.70405199e-01,   8.78434644e-01,\n",
       "         2.68640078e-01,  -8.30599440e-02,   2.44807698e-02,\n",
       "         1.42778131e+00,   1.75829633e+00,   1.14618322e-01,\n",
       "        -1.48592313e+00,   2.16363809e-01,   7.07693878e-01,\n",
       "        -1.02318206e-01,   9.66795350e-01,   9.29353019e-01,\n",
       "         9.30365561e-01,   1.84625898e+00,   3.17447001e-01,\n",
       "        -1.58865763e+00,  -1.29375338e+00,  -2.04430938e-01,\n",
       "         1.43305236e+00,   1.20375715e+00,  -2.02793348e-01,\n",
       "        -1.77416402e-01,  -9.15294578e-01,  -4.08223192e-01,\n",
       "        -2.18268308e-02,   6.66092460e-01,  -8.97913290e-01,\n",
       "         1.77626744e+00,  -7.96735092e-01,  -1.23616595e-01,\n",
       "         5.27778762e-01,  -2.11775990e-02,  -5.79515460e-01,\n",
       "         1.13687067e+00,   7.67152032e-01,   6.53847037e-02,\n",
       "        -1.24651732e-01,  -8.77151604e-01,  -3.52438293e-01,\n",
       "         1.52693513e+00,  -9.58331478e-01,   1.30121704e+00,\n",
       "         2.01163100e-02,   2.03982828e-01,   7.00910272e-01,\n",
       "        -1.71593295e-01,   4.36396458e-01,   7.55705248e-01,\n",
       "         1.10264624e+00,  -9.47152779e-01,   9.28450501e-01,\n",
       "        -2.47753184e+00,   5.37888389e-01,  -8.23132160e-01,\n",
       "        -1.31608983e+00,  -1.40998075e+00,   6.64675469e-02,\n",
       "         9.12826196e-01,  -5.82665301e-01,  -4.67241644e-01,\n",
       "         6.83946121e-02,  -1.48401634e+00,   8.01474822e-02,\n",
       "        -8.27631201e-01,  -1.61198063e-01,  -1.22911939e+00,\n",
       "         7.70886939e-01,   8.76697957e-01,   6.15209468e-01,\n",
       "        -7.08786786e-01,  -1.26891513e+00,   1.60344832e+00,\n",
       "         1.01097759e-01,   6.44052169e-01,  -8.11184830e-01,\n",
       "         2.95808394e-01,  -8.32592630e-01,  -1.26892424e+00,\n",
       "        -9.12593570e-01,   7.96518035e-01,   1.87326849e+00,\n",
       "         7.41658301e-01,  -5.85328600e-01,  -1.15343683e+00,\n",
       "        -8.53972828e-02,  -2.61566103e-01,   5.21123492e-01,\n",
       "         7.82373670e-01,  -5.70026139e-01,   4.97497937e-02,\n",
       "        -2.94246665e-02,  -5.39724736e-01,  -2.34388012e-01,\n",
       "         3.18689790e-01,  -8.13257716e-01,  -2.39711778e-01,\n",
       "         4.95021519e-01,   5.12190598e-01,   8.40944951e-01,\n",
       "         1.78350373e+00,  -9.57581474e-01,   6.73941679e-01,\n",
       "         1.13703530e+00,   1.82135045e-01,  -1.36933898e+00,\n",
       "        -1.42020599e+00,  -2.39422007e-01,   2.80842601e-01,\n",
       "         6.80867918e-01,  -3.11695143e-01,  -2.28820289e+00,\n",
       "        -1.82726533e-01,  -8.79167538e-02,   5.67066103e-01,\n",
       "         2.44177288e-01,   6.93369678e-01,   8.07993203e-01,\n",
       "         1.10773227e+00,   1.37516997e-01,  -1.24612028e+00,\n",
       "        -1.60372419e+00,   2.24413127e+00,   1.12705097e-01,\n",
       "        -1.47530299e+00,  -4.99581624e-01,  -9.39450035e-01,\n",
       "         2.85319397e-01,  -3.43641018e-01,  -4.30417813e-01,\n",
       "        -1.09626838e+00,  -7.45265270e-01,   9.04514159e-01,\n",
       "         1.69627800e-01,  -1.19113272e+00,  -8.02411102e-01,\n",
       "         4.59148979e-01,  -6.86630146e-02,   4.64239583e-01,\n",
       "         5.64991257e-01,  -4.59976448e-01,   2.69241243e-01,\n",
       "         4.14606594e-01,   1.31618821e+00,  -9.12138065e-01,\n",
       "         2.07764641e+00,   8.61204854e-02,   9.79862852e-01,\n",
       "        -8.41380691e-01,  -1.13640607e+00,   1.82342912e+00,\n",
       "        -2.23224871e-01,   7.12244789e-01,  -4.23109132e-01,\n",
       "         4.03593631e-01,  -4.19735199e-01,  -5.04605234e-01,\n",
       "         2.03961541e+00,  -2.71447250e-01,   8.25141714e-01,\n",
       "         5.55881141e-01,  -1.70346110e-01,  -8.17898198e-01,\n",
       "         4.07401533e-01,   7.93964547e-01,  -6.11252182e-01,\n",
       "        -5.40037189e-01,  -1.59900341e+00,  -2.41299499e-01,\n",
       "         8.99936248e-02,  -3.91794619e-01,   4.34531110e-01,\n",
       "        -1.15272471e+00,   5.59149599e-01,  -1.41708239e+00,\n",
       "        -1.06075213e+00,  -4.50480618e-01,   4.29657890e-01,\n",
       "         1.04726769e+00,   1.27294574e+00,   1.01762575e+00,\n",
       "        -2.81087451e+00,  -6.75872527e-01,   1.30191299e+00,\n",
       "         5.29604178e-03,   7.80251628e-01,   1.66450145e-01,\n",
       "         1.03909282e-01,  -8.61450136e-01,  -6.95413672e-01,\n",
       "        -7.88641450e-01,   1.66276396e+00,   1.19349432e-01,\n",
       "         1.09976805e-01,   7.57645649e-01,   7.55193358e-01,\n",
       "        -6.57575615e-01,  -8.75454175e-01,  -1.95031798e+00,\n",
       "         1.32296225e+00,  -9.54127877e-01,  -2.46503449e-01,\n",
       "        -4.83114193e-01,   1.00984712e+00,  -2.13893715e-01,\n",
       "         3.15619509e-01,  -9.26912410e-02,  -1.08274993e+00,\n",
       "        -2.80321266e-01,  -2.21778276e+00,  -8.38926170e-01,\n",
       "        -9.75549908e-02,  -1.25852223e-01,   2.70414135e+00,\n",
       "         7.48109417e-01,  -5.91448885e-01,  -2.30549344e+00,\n",
       "        -1.86235884e+00,   1.01168543e+00,   8.43856553e-01,\n",
       "         1.30955889e+00,  -1.04502391e+00,   5.01124268e-01,\n",
       "        -9.68334513e-01,  -5.53055230e-01,   7.51462459e-01,\n",
       "         1.20784363e+00,  -4.93518194e-01,   1.19697650e+00,\n",
       "         1.32539045e+00,   7.17413970e-01,  -8.20063217e-01,\n",
       "         2.33001430e+00,   1.02144862e+00,  -1.18810417e+00,\n",
       "         9.98957386e-01,   1.50989124e+00,   2.55353867e-01,\n",
       "        -9.29193083e-01,   1.74213791e+00,  -1.29993658e+00,\n",
       "        -9.89440602e-02,   1.55868237e+00,  -1.16197446e+00,\n",
       "         6.81247606e-01,   3.46642858e-01,   1.40594852e+00,\n",
       "         5.88614476e-01,  -1.93617820e-01,   9.43621567e-01,\n",
       "        -2.03159423e+00,   9.40117503e-01,  -6.75600775e-01,\n",
       "        -1.63833140e+00,   9.45397147e-01,  -5.49207032e-01,\n",
       "        -1.79069970e+00,  -1.10322469e+00,  -1.28361316e+00,\n",
       "        -4.15937522e-01,  -2.17399168e-01,  -3.50692191e-01,\n",
       "        -3.88964304e-01,   1.39308318e-01,   1.67772998e-01,\n",
       "         2.49792275e-01,  -6.65901318e-01,  -8.50550399e-01,\n",
       "        -3.60734438e-01,  -2.79961060e-01,  -6.08810603e-01,\n",
       "        -1.66400431e-01,  -2.15553221e-01,  -1.20039792e+00,\n",
       "         1.68779779e-01,  -2.54117222e-01,  -1.87903095e-02,\n",
       "         8.73823008e-01,   1.55655295e-01,  -1.05777024e+00,\n",
       "         4.15264534e-01,  -1.01347936e+00,   9.03138599e-01,\n",
       "        -5.08703635e-01,  -2.83555432e-01,   1.16120652e+00,\n",
       "        -3.82489045e-01,   2.13900897e+00,   1.80397398e+00,\n",
       "        -7.98847996e-01,  -9.08074302e-01,  -1.08506736e+00,\n",
       "        -1.33181604e+00,  -3.95362804e-01,   1.92385014e+00,\n",
       "         2.17742841e-01,  -9.23111693e-01,  -1.93337196e+00,\n",
       "         2.63796090e-01,  -1.10528443e+00,  -3.15198979e-01,\n",
       "        -8.00271420e-01,  -5.29135602e-01,   3.50055534e-01,\n",
       "        -7.72468936e-01,   5.66147270e-01,  -8.59532529e-02,\n",
       "         6.97545115e-01,   4.34858728e-01,  -8.16674556e-01,\n",
       "         3.97531810e-01,   8.97145351e-01,  -4.84698720e-01,\n",
       "        -5.96859226e-01,   9.94549114e-02,   7.47798368e-01,\n",
       "         9.26283484e-01,  -2.41332987e-01,   1.24746080e+00,\n",
       "         5.37903251e-01,   1.47713378e+00,   1.30229103e+00,\n",
       "        -1.18286536e+00,   7.91451885e-02,  -8.37421669e-01,\n",
       "         6.73761058e-01,  -7.67250664e-01,   1.43324404e-02,\n",
       "        -1.22512082e+00,   9.77591184e-01,   4.81689101e-01,\n",
       "        -3.95923801e-01,  -5.12019851e-01,  -9.43174892e-01,\n",
       "         1.85221903e-01,  -3.22982434e-02,   1.39383154e+00,\n",
       "        -8.90401523e-01,  -1.62947537e+00,   1.31139849e+00,\n",
       "        -3.10773630e-01,  -9.91190893e-01,  -1.63205354e+00,\n",
       "        -1.77595057e-01,   7.91954354e-01,   1.26025959e+00,\n",
       "        -1.58832731e+00,  -3.58333480e-01,  -7.03135702e-01,\n",
       "        -1.14429742e+00,  -1.47676278e+00,  -1.76062743e-01,\n",
       "        -3.78779250e-01,   3.25327771e-01,   6.74255680e-01,\n",
       "         1.02888102e+00,  -2.41239245e-01,   1.70271917e+00,\n",
       "        -1.29046134e+00,   2.06743251e-02,  -2.20224931e-01,\n",
       "        -5.53515921e-01,  -1.00216536e-01,   4.37650165e-01,\n",
       "        -5.35549597e-01,   5.63361025e-01,  -1.34256166e+00,\n",
       "        -1.15627228e+00,  -8.60384720e-01,   5.45861201e-01,\n",
       "        -8.75937334e-02,  -9.65336241e-01,   2.05126399e-01,\n",
       "        -8.61592999e-01,  -8.56666128e-01,  -1.01119983e+00,\n",
       "         1.25447259e+00,   1.91712904e-01,  -1.51152342e-02,\n",
       "        -1.63801938e-02,  -3.62419854e-01,  -1.07561858e-01,\n",
       "         1.35360490e+00,   8.73511863e-01,  -6.36929455e-02,\n",
       "         4.82382965e-02,   8.13439501e-01,  -5.69898375e-01,\n",
       "        -6.06261535e-01,  -1.46481926e-01,   7.62619601e-01,\n",
       "         9.48869732e-02,  -8.47130494e-01,  -1.02001588e+00,\n",
       "        -9.05996161e-01,  -1.90706040e-01,   3.14566729e-01,\n",
       "        -4.69476482e-01,  -6.90290834e-01,   4.15926628e-01,\n",
       "        -8.98698461e-02,  -4.75520491e-01,  -1.00251239e+00,\n",
       "        -7.99794941e-01,   5.40444828e-01,  -2.32116034e-01,\n",
       "         3.76610637e-01,  -5.47763586e-01,  -1.95534530e+00,\n",
       "        -7.52561950e-02,   1.89315566e-01,   9.94043453e-01,\n",
       "        -6.98591349e-01,   8.95659778e-02,   1.55503712e+00,\n",
       "         5.64459878e-01,  -2.13443913e+00,  -1.34561629e+00,\n",
       "        -3.10291532e-01,   4.47887261e-02,   9.97911411e-01,\n",
       "         8.56032954e-01,   7.55245674e-01,  -1.02455245e-01,\n",
       "         1.00350711e+00,  -1.39853657e+00,   4.28781166e-01,\n",
       "        -1.94145366e+00,  -1.64595921e+00,  -1.70038668e+00,\n",
       "         1.52834972e+00,   1.36471849e-01,  -1.14923993e+00,\n",
       "         1.46455064e+00,  -3.25443171e-01,   8.36351810e-02,\n",
       "        -6.57330988e-01,  -8.08643743e-01,   6.72957202e-01,\n",
       "        -2.38963835e-01,  -1.05456171e+00,  -1.62466978e+00,\n",
       "         1.24104292e-01,  -1.38981627e+00,   1.41914571e-02,\n",
       "        -4.69066100e-01,  -2.70097143e-01,  -8.82234240e-01,\n",
       "         4.47267823e-01,   1.81876446e+00,   6.88222329e-01,\n",
       "        -2.63063701e-01,   5.34366964e-01,  -9.32663181e-02,\n",
       "         6.68496468e-02,   1.69447111e+00,  -5.32181034e-01,\n",
       "        -1.69620532e-01,   4.33393379e-01,   1.30239574e+00,\n",
       "         3.52531357e-01,   2.00886613e+00,   7.50109473e-01,\n",
       "         1.53888139e+00,   5.06565985e-01,  -6.04876569e-01,\n",
       "        -1.13049318e-01,   3.94390714e-02,   1.57946866e+00,\n",
       "        -1.67212010e+00,  -3.69241408e-01,  -5.09394903e-01,\n",
       "        -6.43478890e-01,   1.09930053e+00,  -1.29368791e+00,\n",
       "        -1.30137004e+00,  -6.83372805e-01,   4.89647666e-01,\n",
       "        -9.95330349e-01,   5.59681658e-01,  -9.89255700e-01,\n",
       "         2.26273193e+00,   2.94850092e-01,  -1.11534280e+00,\n",
       "        -7.01463525e-01,  -5.47218626e-01,   2.83442044e-01,\n",
       "        -3.42521499e-01,  -1.60141149e+00,  -4.67687423e-01,\n",
       "        -1.00029610e+00,   3.70104801e-01,   1.98618884e+00,\n",
       "        -3.37963681e-01,  -9.89596682e-01,   2.74200880e-01,\n",
       "        -1.11490662e+00,  -5.62772903e-01,   7.84279840e-01,\n",
       "        -1.00377350e+00,  -3.36001078e-01,   2.40758998e+00,\n",
       "        -9.33530890e-02,   2.12282853e+00,  -9.64499257e-01,\n",
       "        -9.78067956e-01,  -1.41030472e+00,  -7.62853414e-01,\n",
       "         9.50884351e-01,   1.49793903e+00,   1.62843584e+00,\n",
       "        -3.16407283e-01,  -1.48644652e+00,  -2.16656214e-01,\n",
       "        -2.11202140e-01,  -1.49573837e+00,   4.27615746e-01,\n",
       "         2.18464263e+00,   5.78032588e-02,   8.86826543e-01,\n",
       "         3.37465230e+00,  -1.49954824e-01,  -6.52094677e-01,\n",
       "        -8.10754531e-02,   9.70670058e-01,  -1.16041682e+00,\n",
       "         1.79665228e+00,  -2.14224118e-01,  -4.08805856e-01,\n",
       "         8.32609798e-01,   8.87168320e-01,   1.08159720e+00,\n",
       "         3.24404693e-01,  -5.06250860e-01,   1.36053459e+00,\n",
       "         4.32900028e-01,  -8.74560381e-01,   1.67679460e+00,\n",
       "        -1.23493322e+00,  -1.36027502e+00,   2.03157520e+00,\n",
       "         1.04547298e+00,   1.57108429e+00,   2.18482796e-01,\n",
       "        -7.14118004e-01,   2.28803989e-01,  -1.77771864e-02,\n",
       "        -8.92827173e-01,   5.73634697e-01,   5.46376804e-01,\n",
       "        -2.97789397e+00,  -6.50908230e-01,  -6.33232947e-01,\n",
       "         2.42478994e+00,   1.92633628e-01,  -1.64672623e-01,\n",
       "        -1.48900245e+00,   5.02567740e-01,   4.30953848e-01,\n",
       "        -9.29720076e-01,  -1.06929293e+00,  -3.15190644e-01,\n",
       "         1.32730762e-01,   7.02354050e-01,   1.87095333e-01,\n",
       "        -1.65069267e+00,   4.56900405e-01,   2.74036559e-01,\n",
       "        -1.50765142e+00,   6.09109950e-01,   3.39236561e-01,\n",
       "         6.31066568e-02,   3.20105781e-01,   7.41332664e-01,\n",
       "         1.81420217e+00,  -7.04752713e-01,   3.33277611e-01,\n",
       "         1.01441383e+00,   7.89419249e-01,   6.61817021e-01,\n",
       "         1.09314671e+00,  -7.29938125e-01,  -1.29827680e+00,\n",
       "        -9.27088163e-01,  -1.82940090e+00,  -6.01931473e-02,\n",
       "        -2.10257959e-01,   2.42653001e+00,   2.60641615e-01,\n",
       "         4.33485593e-01,  -1.37909050e+00,  -1.66212009e-01,\n",
       "        -1.07829456e+00,   5.67820243e-01,   3.12529368e-01,\n",
       "        -3.21535530e-01,   6.78697883e-01,  -1.02473971e+00,\n",
       "        -2.35791792e-01,   5.66792212e-01,   3.08572815e-01,\n",
       "         9.90439715e-02,   6.85399820e-01,   1.01331827e+00,\n",
       "         8.32480199e-01,  -1.32800881e+00,  -5.65377281e-01,\n",
       "         2.54869688e-01,   4.82701787e-01,  -2.74246196e-02,\n",
       "         1.32653020e+00,   3.70785450e-04,  -1.42434212e+00,\n",
       "         1.25923271e+00,   1.48709673e+00,  -1.49514294e+00,\n",
       "         2.71445143e-01,   1.61334990e+00,  -7.38685812e-01,\n",
       "         4.57249739e-01,  -9.79478800e-02,   4.85135977e-01,\n",
       "         1.92382649e+00,  -4.78924484e-01,   5.77545888e-02,\n",
       "         1.87164284e+00,   4.60430398e-01,   1.01904518e-01,\n",
       "        -9.63362827e-01,  -2.00396475e-01,   5.78776674e-01,\n",
       "         6.11219982e-01,   2.31854956e-01,  -9.53986546e-01,\n",
       "        -1.70182251e+00,   5.61566908e-01,  -1.14595591e+00,\n",
       "        -9.86603115e-01,   9.95681343e-01,   3.81925986e-01,\n",
       "        -2.37878353e-01,  -1.16496433e+00,  -1.15908200e+00,\n",
       "         3.13155741e-01,  -1.84785604e+00,  -1.55957302e+00,\n",
       "         1.68440541e+00,  -5.09979527e-01,   1.02390883e+00,\n",
       "        -2.39233513e+00,   5.30291014e-01,   1.04038960e+00,\n",
       "        -5.59410411e-01,  -1.45514012e-01,   1.25707983e+00,\n",
       "        -1.44515388e+00,  -2.62712829e-01,   1.09886913e+00,\n",
       "         3.54257848e-01,  -8.43454575e-01,  -1.97679335e+00,\n",
       "         1.77718711e+00,  -9.95517763e-01,   1.06477125e+00,\n",
       "        -3.53485722e-01,  -5.57846546e-02,  -8.40401806e-02,\n",
       "         1.70728547e+00,  -1.17940192e+00,  -3.22579372e-01,\n",
       "         1.24445213e-01,   2.98466557e-03,   1.03542546e+00,\n",
       "        -7.42580671e-01,   5.90295661e-01,   1.99570419e-01,\n",
       "        -2.08835697e-01,   1.38013759e+00,   2.96059164e-02,\n",
       "        -1.48735797e+00,   1.53834172e+00,  -9.94963363e-01,\n",
       "        -5.51579594e-01,  -1.90343591e+00,  -6.92293136e-01,\n",
       "         1.64226208e+00,   4.87781321e-01,  -1.88164335e+00,\n",
       "        -6.68544245e-01,  -6.04154293e-01,  -8.27415685e-01,\n",
       "        -8.17724992e-02,   4.72542316e-01,   5.01946206e-01,\n",
       "         1.31084259e-01,  -2.57971179e+00,  -6.03474511e-01,\n",
       "        -1.73787518e-01,   4.18896577e-01,  -8.68633973e-01,\n",
       "         1.55252317e+00,   1.44718167e+00,   3.00271950e-01,\n",
       "        -1.37088627e-01,  -9.98166119e-01,   1.52612749e+00,\n",
       "        -2.22157103e+00,   1.09983243e+00,   6.70946312e-01,\n",
       "         1.44446218e+00,  -1.52661422e-01,   1.30609211e-01,\n",
       "        -2.48894906e-01,   1.20393558e+00,  -1.11200364e+00,\n",
       "         9.20096885e-01,   5.43505228e-01,   5.46065669e-01,\n",
       "        -1.35109525e+00,  -1.07398019e-01,   1.51793691e+00,\n",
       "        -4.21545031e-01,   1.52148836e-02,  -2.06389767e+00,\n",
       "         1.68037822e+00,  -3.73559789e-01,   2.53352239e-01,\n",
       "        -4.89752575e-01,  -2.37050638e+00,  -5.62066988e-01,\n",
       "         1.19373245e+00,   5.11762510e-02,  -4.72010991e-01,\n",
       "         1.50111947e+00,  -6.49955029e-01,  -1.00900610e+00,\n",
       "        -3.69719184e-01,   9.23297579e-01,  -4.20530157e-01,\n",
       "         8.46923010e-01,  -1.66015433e+00,  -1.09406120e+00,\n",
       "        -1.29412535e+00,  -3.92991938e-01,   2.05820734e+00,\n",
       "         3.93376256e-01,   6.78128756e-01,  -1.15440068e+00,\n",
       "        -1.17104611e-01,   7.14405861e-01,  -1.49889399e+00,\n",
       "         5.20808204e-01,  -2.35668833e-01,   2.89433870e-01,\n",
       "         5.54630626e-01,  -9.26194451e-01,  -3.29039881e-01,\n",
       "         1.36016516e-01,  -2.30518050e-01,   3.28318326e-01,\n",
       "        -2.85179050e-01,  -7.38876723e-01,   7.74391301e-02,\n",
       "        -2.42109523e+00,  -1.52919123e+00,  -9.65442932e-02,\n",
       "         7.26816691e-01,  -2.17797099e-02,  -3.14799654e-02,\n",
       "        -1.64455718e+00,  -1.10501547e+00,   1.80080920e-01,\n",
       "        -8.14246697e-01,   5.25203840e-01,  -9.77117747e-01,\n",
       "         8.85124414e-01,  -8.81933061e-01,   3.52949590e-01,\n",
       "        -5.60289797e-01,   6.94453097e-01,   1.44664826e+00,\n",
       "         5.66393460e-01,  -4.69349149e-01,  -7.96459978e-01,\n",
       "        -2.15507296e+00,   1.70022210e+00,   6.13818727e-01,\n",
       "         7.27185974e-01,  -1.29932951e-02,   1.77771485e-01,\n",
       "         1.07620772e+00,   2.81631402e-01,   2.65691524e+00,\n",
       "        -2.13149342e-02,   5.28538964e-01,   1.83390650e+00,\n",
       "        -2.94638492e-02,  -1.08676112e+00,  -1.45067122e+00,\n",
       "         8.76441954e-01,   1.52362558e+00,   1.25206397e+00,\n",
       "        -2.00801797e+00,  -1.42742085e-01,  -4.89735509e-01,\n",
       "         8.33800030e-01,   1.38411116e+00,  -1.43404607e-01,\n",
       "        -1.70541509e+00,   4.36948191e-01,  -7.24050496e-01,\n",
       "        -1.02009724e+00,   1.97681972e-01,  -2.22345024e-01,\n",
       "         1.32108185e+00,   6.42646365e-01,  -1.31156217e-01,\n",
       "         1.82037204e-01,  -3.09450457e-01,  -6.41313116e-01,\n",
       "         2.67146901e-01,   1.36663014e-02,  -8.69651063e-01,\n",
       "        -1.09101775e+00,   8.92940715e-01,   1.74445348e+00,\n",
       "        -8.93485270e-01,  -9.22248946e-01,   3.61163396e-01,\n",
       "         4.38254640e-01,   1.82783819e-01,  -1.68032419e+00,\n",
       "         9.39020436e-01,  -1.60977205e-03,  -4.87782085e-01,\n",
       "        -5.80647098e-02,  -4.51061552e-01,  -6.03529748e-01,\n",
       "        -1.28114656e+00,   7.60909316e-01,  -5.48590694e-01,\n",
       "        -3.51688344e-01,  -5.50225425e-01,  -2.38661370e-02,\n",
       "        -5.36513741e-01,  -4.34569006e-01,  -6.90499468e-01,\n",
       "         2.36963579e-01,  -6.96383994e-01,   1.25481837e+00,\n",
       "        -7.75526286e-01,  -3.33767181e-02,  -1.48175796e+00,\n",
       "         1.04330664e+00,   2.44466929e-01,   2.20300841e+00,\n",
       "         4.86820061e-01,   4.94901211e-01,   4.57943533e-03,\n",
       "        -3.34356978e-01,   8.14589000e-01,  -1.25513063e+00,\n",
       "         1.65110213e+00,   7.66054938e-01,   1.46190340e+00,\n",
       "         1.43305431e+00,   6.70478496e-01,  -6.23015841e-01,\n",
       "         5.41031853e-01,   1.55568232e-01,  -1.50759692e+00,\n",
       "         1.45109778e+00,  -3.41050285e-01,  -7.55435289e-01,\n",
       "         3.63906256e-01,   1.17057969e+00,  -2.64515688e-01,\n",
       "         2.86971921e-01,   6.20944704e-01,  -6.36916620e-01,\n",
       "         8.37090002e-01,  -2.96107118e-01,  -1.27804848e+00,\n",
       "        -6.65538834e-01,   2.26872729e-01,   1.24652516e+00,\n",
       "        -1.38343034e+00,  -7.19070973e-01,   5.47993453e-01,\n",
       "        -8.79519817e-03,  -1.16157172e+00,   1.52850965e+00,\n",
       "        -1.73209580e+00,   1.27322608e+00,   1.86402877e-01,\n",
       "         1.04554894e+00,   1.48917052e+00,  -6.23110395e-01,\n",
       "        -3.61282700e-01,  -3.93183903e-01,   2.03739208e+00,\n",
       "         1.42323357e+00,   6.35095127e-01,  -4.75348294e-01,\n",
       "        -3.42797974e-01,   3.06981801e-01,   6.19841837e-01,\n",
       "         7.74028944e-01,   7.70949660e-01,  -8.98976414e-02,\n",
       "        -5.06548293e-01,  -1.20248535e-01,   1.37036935e+00,\n",
       "         5.59478282e-01,  -2.50919343e-02,   1.33528121e+00,\n",
       "        -2.32737484e+00,  -4.02113209e-01,   2.83370287e-01,\n",
       "         3.58754992e+00,  -5.51603065e-01,   3.12077281e+00,\n",
       "         5.85967945e-01,  -1.03827805e+00,   1.17684006e-01,\n",
       "        -1.81591367e-03,  -9.97416961e-01,   4.29846467e-01,\n",
       "        -7.91446971e-01,   5.58933112e-01,   1.32703121e-01,\n",
       "        -7.67543581e-01,  -1.12291757e+00,  -4.69203293e-01,\n",
       "         3.19510751e+00,   4.47712298e-01,   1.82404976e-01,\n",
       "         1.64482383e+00,  -8.91214782e-01,   1.67742960e-01,\n",
       "        -5.55563478e-01,  -4.12285884e-01,  -1.04404649e+00,\n",
       "        -7.33074059e-01,  -7.97993252e-01,  -1.19060736e-02,\n",
       "         6.75450075e-01,  -8.63550092e-01,  -1.41524940e+00,\n",
       "         3.58839172e-01,   1.20687004e+00,  -4.34869837e-01,\n",
       "        -2.05527724e-01,  -5.06118705e-01,  -9.32357741e-01,\n",
       "        -6.14589677e-01,   7.10387758e-02,   3.75862350e-01,\n",
       "         1.97585551e+00,  -1.21619539e+00,  -1.17611381e+00,\n",
       "         2.80123529e-01,   1.09155543e+00,  -8.39486313e-01,\n",
       "        -3.72696810e-01,   4.03308400e-01,   3.17530046e-01,\n",
       "         1.97201435e+00,  -7.76662500e-01,  -1.54864387e-01,\n",
       "         3.49075227e-01])"
      ]
     },
     "execution_count": 37,
     "metadata": {},
     "output_type": "execute_result"
    }
   ],
   "source": [
    "y=npr.normal(size=10000)\n",
    "y"
   ]
  },
  {
   "cell_type": "markdown",
   "metadata": {},
   "source": [
    "# 這是一個 Random 且是 Normal Distribution"
   ]
  },
  {
   "cell_type": "code",
   "execution_count": 52,
   "metadata": {},
   "outputs": [
    {
     "data": {
      "text/plain": [
       "Text(0.5,0,'Value')"
      ]
     },
     "execution_count": 52,
     "metadata": {},
     "output_type": "execute_result"
    },
    {
     "data": {
      "image/png": "[encoded data removed]",
      "text/plain": [
       "<matplotlib.figure.Figure at 0x10a6f6a58>"
      ]
     },
     "metadata": {},
     "output_type": "display_data"
    }
   ],
   "source": [
    "plt.hist(y)\n",
    "plt.title(\"Freq Dist\")\n",
    "plt.ylabel(\"Freq\")\n",
    "plt.xlabel(\"Value\")"
   ]
  },
  {
   "cell_type": "markdown",
   "metadata": {},
   "source": [
    "# 進行抽樣來驗證中央極限定理"
   ]
  },
  {
   "cell_type": "code",
   "execution_count": 39,
   "metadata": {},
   "outputs": [],
   "source": [
    "from random import sample\n",
    "import numpy as np"
   ]
  },
  {
   "cell_type": "markdown",
   "metadata": {},
   "source": [
    "## 實驗一 : 對 x 為 uniform distribution ，每次抽兩筆，抽 100 次"
   ]
  },
  {
   "cell_type": "code",
   "execution_count": 70,
   "metadata": {},
   "outputs": [
    {
     "data": {
      "text/plain": [
       "Text(0.5,0,'Value')"
      ]
     },
     "execution_count": 70,
     "metadata": {},
     "output_type": "execute_result"
    },
    {
     "data": {
      "image/png": "[encoded data removed]",
      "text/plain": [
       "<matplotlib.figure.Figure at 0x10b081ba8>"
      ]
     },
     "metadata": {},
     "output_type": "display_data"
    }
   ],
   "source": [
    "# 進行抽樣 100 次\n",
    "mean_list = []\n",
    "for _ in range(100):\n",
    "    m = np.mean(sample(list(x),2))\n",
    "    mean_list.append(m)\n",
    "plt.hist(mean_list)\n",
    "plt.title(\"Freq Dist\")\n",
    "plt.ylabel(\"Freq\")\n",
    "plt.xlabel(\"Value\")"
   ]
  },
  {
   "cell_type": "markdown",
   "metadata": {},
   "source": [
    "## 實驗二 : 對 x 為 uniform distribution ，每次抽30筆，抽 100 次"
   ]
  },
  {
   "cell_type": "code",
   "execution_count": 68,
   "metadata": {},
   "outputs": [
    {
     "data": {
      "text/plain": [
       "Text(0.5,0,'Value')"
      ]
     },
     "execution_count": 68,
     "metadata": {},
     "output_type": "execute_result"
    },
    {
     "data": {
      "image/png": "[encoded data removed]",
      "text/plain": [
       "<matplotlib.figure.Figure at 0x10af602b0>"
      ]
     },
     "metadata": {},
     "output_type": "display_data"
    }
   ],
   "source": [
    "# 進行抽樣 100 次\n",
    "mean_list = []\n",
    "for _ in range(100):\n",
    "    m = np.mean(sample(list(x),30))\n",
    "    mean_list.append(m)\n",
    "plt.hist(mean_list)\n",
    "plt.title(\"Freq Dist\")\n",
    "plt.ylabel(\"Freq\")\n",
    "plt.xlabel(\"Value\")"
   ]
  },
  {
   "cell_type": "markdown",
   "metadata": {},
   "source": [
    "## 實驗三 : 對 x 為 normal distribution ，每次抽30筆，抽 100 次\n"
   ]
  },
  {
   "cell_type": "code",
   "execution_count": 79,
   "metadata": {},
   "outputs": [
    {
     "data": {
      "text/plain": [
       "Text(0.5,0,'Value')"
      ]
     },
     "execution_count": 79,
     "metadata": {},
     "output_type": "execute_result"
    },
    {
     "data": {
      "image/png": "[encoded data removed]",
      "text/plain": [
       "<matplotlib.figure.Figure at 0x10b891d68>"
      ]
     },
     "metadata": {},
     "output_type": "display_data"
    }
   ],
   "source": [
    "# 進行抽樣 100 次\n",
    "mean_list = []\n",
    "for _ in range(100):\n",
    "    m = np.mean(sample(list(y),30))\n",
    "    mean_list.append(m)\n",
    "plt.hist(mean_list)\n",
    "plt.title(\"Freq Dist\")\n",
    "plt.ylabel(\"Freq\")\n",
    "plt.xlabel(\"Value\")"
   ]
  },
  {
   "cell_type": "code",
   "execution_count": 80,
   "metadata": {},
   "outputs": [
    {
     "data": {
      "text/plain": [
       "Text(0.5,0,'Value')"
      ]
     },
     "execution_count": 80,
     "metadata": {},
     "output_type": "execute_result"
    },
    {
     "data": {
      "image/png": "[encoded data removed]",
      "text/plain": [
       "<matplotlib.figure.Figure at 0x10b891f28>"
      ]
     },
     "metadata": {},
     "output_type": "display_data"
    }
   ],
   "source": [
    "# 進行抽樣 100 次\n",
    "mean_list = []\n",
    "for _ in range(100):\n",
    "    m = np.mean(sample(list(y),2))\n",
    "    mean_list.append(m)\n",
    "plt.hist(mean_list)\n",
    "plt.title(\"Freq Dist\")\n",
    "plt.ylabel(\"Freq\")\n",
    "plt.xlabel(\"Value\")"
   ]
  },
  {
   "cell_type": "code",
   "execution_count": null,
   "metadata": {},
   "outputs": [],
   "source": []
  }
 ],
 "metadata": {
  "kernelspec": {
   "display_name": "Python 3",
   "language": "python",
   "name": "python3"
  },
  "language_info": {
   "codemirror_mode": {
    "name": "ipython",
    "version": 3
   },
   "file_extension": ".py",
   "mimetype": "text/x-python",
   "name": "python",
   "nbconvert_exporter": "python",
   "pygments_lexer": "ipython3",
   "version": "3.6.3"
  }
 },
 "nbformat": 4,
 "nbformat_minor": 2
}
